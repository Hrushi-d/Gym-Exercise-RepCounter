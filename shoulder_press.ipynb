{
 "cells": [
  {
   "cell_type": "code",
   "execution_count": 26,
   "metadata": {},
   "outputs": [
    {
     "name": "stdout",
     "output_type": "stream",
     "text": [
      "Requirement already satisfied: mediapipe in c:\\users\\legion\\appdata\\local\\programs\\python\\python310\\lib\\site-packages (0.8.9.1)\n",
      "Requirement already satisfied: opencv-python in c:\\users\\legion\\appdata\\local\\programs\\python\\python310\\lib\\site-packages (4.5.5.64)\n",
      "Requirement already satisfied: absl-py in c:\\users\\legion\\appdata\\local\\programs\\python\\python310\\lib\\site-packages (from mediapipe) (0.12.0)\n",
      "Requirement already satisfied: attrs>=19.1.0 in c:\\users\\legion\\appdata\\local\\programs\\python\\python310\\lib\\site-packages (from mediapipe) (20.3.0)\n",
      "Requirement already satisfied: matplotlib in c:\\users\\legion\\appdata\\local\\programs\\python\\python310\\lib\\site-packages (from mediapipe) (3.5.2)\n",
      "Requirement already satisfied: numpy in c:\\users\\legion\\appdata\\local\\programs\\python\\python310\\lib\\site-packages (from mediapipe) (1.22.3)\n",
      "Requirement already satisfied: opencv-contrib-python in c:\\users\\legion\\appdata\\local\\programs\\python\\python310\\lib\\site-packages (from mediapipe) (4.7.0.72)\n",
      "Requirement already satisfied: protobuf>=3.11.4 in c:\\users\\legion\\appdata\\local\\programs\\python\\python310\\lib\\site-packages (from mediapipe) (3.20.1)\n",
      "Requirement already satisfied: six in c:\\users\\legion\\appdata\\local\\programs\\python\\python310\\lib\\site-packages (from absl-py->mediapipe) (1.15.0)\n",
      "Requirement already satisfied: cycler>=0.10 in c:\\users\\legion\\appdata\\local\\programs\\python\\python310\\lib\\site-packages (from matplotlib->mediapipe) (0.11.0)\n",
      "Requirement already satisfied: fonttools>=4.22.0 in c:\\users\\legion\\appdata\\local\\programs\\python\\python310\\lib\\site-packages (from matplotlib->mediapipe) (4.33.3)\n",
      "Requirement already satisfied: kiwisolver>=1.0.1 in c:\\users\\legion\\appdata\\local\\programs\\python\\python310\\lib\\site-packages (from matplotlib->mediapipe) (1.4.2)\n",
      "Requirement already satisfied: packaging>=20.0 in c:\\users\\legion\\appdata\\local\\programs\\python\\python310\\lib\\site-packages (from matplotlib->mediapipe) (21.3)\n",
      "Requirement already satisfied: pillow>=6.2.0 in c:\\users\\legion\\appdata\\local\\programs\\python\\python310\\lib\\site-packages (from matplotlib->mediapipe) (9.1.0)\n",
      "Requirement already satisfied: pyparsing>=2.2.1 in c:\\users\\legion\\appdata\\local\\programs\\python\\python310\\lib\\site-packages (from matplotlib->mediapipe) (3.0.8)\n",
      "Requirement already satisfied: python-dateutil>=2.7 in c:\\users\\legion\\appdata\\local\\programs\\python\\python310\\lib\\site-packages (from matplotlib->mediapipe) (2.8.2)\n",
      "Note: you may need to restart the kernel to use updated packages.\n"
     ]
    },
    {
     "name": "stderr",
     "output_type": "stream",
     "text": [
      "\n",
      "[notice] A new release of pip is available: 23.1.2 -> 23.2.1\n",
      "[notice] To update, run: python.exe -m pip install --upgrade pip\n"
     ]
    }
   ],
   "source": [
    "%pip install mediapipe opencv-python"
   ]
  },
  {
   "cell_type": "code",
   "execution_count": 27,
   "metadata": {},
   "outputs": [],
   "source": [
    "import mediapipe as mp\n",
    "import cv2\n",
    "import numpy as np"
   ]
  },
  {
   "cell_type": "code",
   "execution_count": 28,
   "metadata": {},
   "outputs": [],
   "source": [
    "def calculate_angle(a, b, c):\n",
    "    \"\"\"\n",
    "    Calculate the angle between three points using the cosine rule\n",
    "    \"\"\"\n",
    "    a = np.array([a.x, a.y])\n",
    "    b = np.array([b.x, b.y])\n",
    "    c = np.array([c.x, c.y])\n",
    "\n",
    "    radians = np.arccos(np.dot(b - a, c - b) / (np.linalg.norm(b - a) * np.linalg.norm(c - b)))\n",
    "    angle = np.degrees(radians)\n",
    "\n",
    "    return angle"
   ]
  },
  {
   "cell_type": "code",
   "execution_count": 29,
   "metadata": {},
   "outputs": [],
   "source": [
    "def count_shoulder_presses():\n",
    "    \"\"\"\n",
    "    Count the number of shoulder presses performed in real-time using Mediapipe\n",
    "    \"\"\"\n",
    "    mp_pose = mp.solutions.pose\n",
    "    mp_drawing = mp.solutions.drawing_utils\n",
    "    cap = cv2.VideoCapture(0)\n",
    "    card_width, card_height = 180, 100\n",
    "    card_x, card_y = 10, 10\n",
    "    card_color = (255, 153, 13)\n",
    "\n",
    "    cap = cv2.VideoCapture(0)\n",
    "\n",
    "    with mp_pose.Pose(min_detection_confidence=0.3, min_tracking_confidence=0.7) as pose:\n",
    "        press_count = 0\n",
    "        is_pressing = False\n",
    "        prev_angle = None\n",
    "        prev_angle1 = None\n",
    "        threshold=110\n",
    "\n",
    "        while True:\n",
    "            ret, image = cap.read()\n",
    "\n",
    "            image = cv2.flip(image, 1)\n",
    "            image_rgb = cv2.cvtColor(image, cv2.COLOR_BGR2RGB)\n",
    "\n",
    "            results = pose.process(image_rgb)\n",
    "\n",
    "            mp_drawing.draw_landmarks(image, results.pose_landmarks, mp_pose.POSE_CONNECTIONS)\n",
    "\n",
    "            if results.pose_landmarks is not None:\n",
    "                # left \n",
    "                left_shoulder = results.pose_landmarks.landmark[mp_pose.PoseLandmark.LEFT_SHOULDER]\n",
    "                left_elbow = results.pose_landmarks.landmark[mp_pose.PoseLandmark.LEFT_ELBOW]\n",
    "                left_wrist = results.pose_landmarks.landmark[mp_pose.PoseLandmark.LEFT_WRIST]\n",
    "                \n",
    "                # right\n",
    "                right_shoulder = results.pose_landmarks.landmark[mp_pose.PoseLandmark.RIGHT_SHOULDER]\n",
    "                right_elbow = results.pose_landmarks.landmark[mp_pose.PoseLandmark.RIGHT_ELBOW]\n",
    "                right_wrist = results.pose_landmarks.landmark[mp_pose.PoseLandmark.RIGHT_WRIST]\n",
    "\n",
    "                angle = calculate_angle(left_shoulder, left_elbow, left_wrist)\n",
    "                # cv2.putText(image, f\"Right Angle: {angle:.2f} degrees\", (10, 20), cv2.FONT_HERSHEY_SIMPLEX, 1, (0, 0, 0), 2)\n",
    "                angle1 = calculate_angle(right_shoulder, right_elbow, right_wrist)\n",
    "                # cv2.putText(image, f\"Right Angle: {angle1:.2f} degrees\", (10, 60), cv2.FONT_HERSHEY_SIMPLEX, 1, (0, 0, 0), 2)\n",
    "\n",
    "                if prev_angle and prev_angle1 is not None:\n",
    "                    delta = abs(angle - prev_angle)\n",
    "                    delta1 = abs(angle1 - prev_angle1)\n",
    "                    # cv2.putText(image, f\"Right Angle: {delta1:.2f} degrees\", (10, 60), cv2.FONT_HERSHEY_SIMPLEX, 1, (0, 0, 0), 2)\n",
    "                    if not is_pressing and delta >8 and delta1 > 8:\n",
    "                        is_pressing = True\n",
    "                    elif is_pressing and delta < 5 and delta < 5:\n",
    "                        is_pressing = False\n",
    "\n",
    "                prev_angle = angle\n",
    "                prev_angle1 = angle1\n",
    "\n",
    "                if is_pressing and angle < threshold and angle1 < threshold:\n",
    "                    press_count += 1\n",
    "                    is_pressing = False\n",
    "\n",
    "            cv2.rectangle(image, (card_x, card_y), (card_x + card_width, card_y + card_height), card_color, -1)\n",
    "\n",
    "            # Display the text inside the card\n",
    "            text_x, text_y = card_x + 10, card_y + 30\n",
    "            text_line1 = '  Shoulder  '\n",
    "            text_line3 = '   Press  '\n",
    "            text_line2 = f'  Count: {press_count} '\n",
    "            line_spacing = 30\n",
    "            font_scale = 0.7\n",
    "            font_color = (255, 255, 255)\n",
    "\n",
    "            cv2.putText(image, text_line1, (text_x, text_y), cv2.FONT_HERSHEY_COMPLEX, font_scale, font_color, 2, cv2.LINE_AA)\n",
    "            cv2.putText(image, text_line3, (text_x, text_y+ line_spacing), cv2.FONT_HERSHEY_COMPLEX, font_scale, font_color, 2, cv2.LINE_AA)\n",
    "            cv2.putText(image, text_line2, (text_x, text_y + line_spacing+ line_spacing), cv2.FONT_HERSHEY_COMPLEX, font_scale, font_color, 2, cv2.LINE_AA)\n",
    "            \n",
    "            cv2.imshow('Shoulder Press counter', image)\n",
    "\n",
    "            if cv2.waitKey(1) == ord('q'):\n",
    "                break\n",
    "\n",
    "    cap.release()\n",
    "    cv2.destroyAllWindows()\n",
    "\n",
    "    return press_count"
   ]
  },
  {
   "cell_type": "code",
   "execution_count": 30,
   "metadata": {},
   "outputs": [],
   "source": [
    "count =count_shoulder_presses()"
   ]
  }
 ],
 "metadata": {
  "kernelspec": {
   "display_name": "Python 3",
   "language": "python",
   "name": "python3"
  },
  "language_info": {
   "codemirror_mode": {
    "name": "ipython",
    "version": 3
   },
   "file_extension": ".py",
   "mimetype": "text/x-python",
   "name": "python",
   "nbconvert_exporter": "python",
   "pygments_lexer": "ipython3",
   "version": "3.10.4"
  },
  "orig_nbformat": 4
 },
 "nbformat": 4,
 "nbformat_minor": 2
}
