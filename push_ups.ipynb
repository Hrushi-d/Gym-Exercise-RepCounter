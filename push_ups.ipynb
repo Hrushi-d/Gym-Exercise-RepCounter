{
 "cells": [
  {
   "cell_type": "code",
   "execution_count": 1,
   "metadata": {},
   "outputs": [
    {
     "name": "stdout",
     "output_type": "stream",
     "text": [
      "Requirement already satisfied: mediapipe in c:\\users\\legion\\appdata\\local\\programs\\python\\python310\\lib\\site-packages (0.8.9.1)\n",
      "Requirement already satisfied: opencv-python in c:\\users\\legion\\appdata\\local\\programs\\python\\python310\\lib\\site-packages (4.5.5.64)\n",
      "Requirement already satisfied: absl-py in c:\\users\\legion\\appdata\\local\\programs\\python\\python310\\lib\\site-packages (from mediapipe) (0.12.0)\n",
      "Requirement already satisfied: attrs>=19.1.0 in c:\\users\\legion\\appdata\\local\\programs\\python\\python310\\lib\\site-packages (from mediapipe) (20.3.0)\n",
      "Requirement already satisfied: matplotlib in c:\\users\\legion\\appdata\\local\\programs\\python\\python310\\lib\\site-packages (from mediapipe) (3.5.2)\n",
      "Requirement already satisfied: numpy in c:\\users\\legion\\appdata\\local\\programs\\python\\python310\\lib\\site-packages (from mediapipe) (1.22.3)\n",
      "Requirement already satisfied: opencv-contrib-python in c:\\users\\legion\\appdata\\local\\programs\\python\\python310\\lib\\site-packages (from mediapipe) (4.7.0.72)\n",
      "Requirement already satisfied: protobuf>=3.11.4 in c:\\users\\legion\\appdata\\local\\programs\\python\\python310\\lib\\site-packages (from mediapipe) (3.20.1)\n",
      "Requirement already satisfied: six in c:\\users\\legion\\appdata\\local\\programs\\python\\python310\\lib\\site-packages (from absl-py->mediapipe) (1.15.0)\n",
      "Requirement already satisfied: cycler>=0.10 in c:\\users\\legion\\appdata\\local\\programs\\python\\python310\\lib\\site-packages (from matplotlib->mediapipe) (0.11.0)\n",
      "Requirement already satisfied: fonttools>=4.22.0 in c:\\users\\legion\\appdata\\local\\programs\\python\\python310\\lib\\site-packages (from matplotlib->mediapipe) (4.33.3)\n",
      "Requirement already satisfied: kiwisolver>=1.0.1 in c:\\users\\legion\\appdata\\local\\programs\\python\\python310\\lib\\site-packages (from matplotlib->mediapipe) (1.4.2)\n",
      "Requirement already satisfied: packaging>=20.0 in c:\\users\\legion\\appdata\\local\\programs\\python\\python310\\lib\\site-packages (from matplotlib->mediapipe) (21.3)\n",
      "Requirement already satisfied: pillow>=6.2.0 in c:\\users\\legion\\appdata\\local\\programs\\python\\python310\\lib\\site-packages (from matplotlib->mediapipe) (9.1.0)\n",
      "Requirement already satisfied: pyparsing>=2.2.1 in c:\\users\\legion\\appdata\\local\\programs\\python\\python310\\lib\\site-packages (from matplotlib->mediapipe) (3.0.8)\n",
      "Requirement already satisfied: python-dateutil>=2.7 in c:\\users\\legion\\appdata\\local\\programs\\python\\python310\\lib\\site-packages (from matplotlib->mediapipe) (2.8.2)\n",
      "Note: you may need to restart the kernel to use updated packages.\n"
     ]
    },
    {
     "name": "stderr",
     "output_type": "stream",
     "text": [
      "\n",
      "[notice] A new release of pip is available: 23.1.2 -> 23.2.1\n",
      "[notice] To update, run: python.exe -m pip install --upgrade pip\n"
     ]
    }
   ],
   "source": [
    "%pip install mediapipe opencv-python"
   ]
  },
  {
   "cell_type": "code",
   "execution_count": 2,
   "metadata": {},
   "outputs": [],
   "source": [
    "import mediapipe as mp\n",
    "import cv2\n",
    "import numpy as np\n"
   ]
  },
  {
   "cell_type": "code",
   "execution_count": 3,
   "metadata": {},
   "outputs": [],
   "source": [
    "# Calculate the angle between three points using the cosine rule\n",
    "def calculate_angle(a, b, c):\n",
    "\n",
    "\n",
    "    a = np.array([a.x, a.y])\n",
    "    b = np.array([b.x, b.y])\n",
    "    c = np.array([c.x, c.y])\n",
    "\n",
    "    radians = np.arccos(np.dot(b - a, c - b) / (np.linalg.norm(b - a) * np.linalg.norm(c - b)))\n",
    "    angle = np.degrees(radians)\n",
    "\n",
    "    return angle"
   ]
  },
  {
   "cell_type": "code",
   "execution_count": 2,
   "metadata": {},
   "outputs": [],
   "source": [
    "def count_push_ups():\n",
    "    mp_pose = mp.solutions.pose\n",
    "    mp_drawing = mp.solutions.drawing_utils\n",
    "    cap = cv2.VideoCapture(0)\n",
    "\n",
    "    # cards constraints\n",
    "    card_width, card_height = 150, 80\n",
    "    card_x, card_y = 10, 10\n",
    "    card_color = (255, 153, 13)\n",
    "\n",
    "    with mp_pose.Pose(min_detection_confidence=0.5, min_tracking_confidence=0.5) as pose:\n",
    "        push_up_count = 0\n",
    "        is_pushing_up = False\n",
    "        prev_angle = None\n",
    "        delta=None\n",
    "\n",
    "        while True:\n",
    "            ret, image = cap.read()\n",
    "\n",
    "            image = cv2.flip(image, 1)\n",
    "\n",
    "            image_rgb = cv2.cvtColor(image, cv2.COLOR_BGR2RGB)\n",
    "\n",
    "            results = pose.process(image_rgb)\n",
    "\n",
    "            mp_drawing.draw_landmarks(image, results.pose_landmarks, mp_pose.POSE_CONNECTIONS)\n",
    "\n",
    "            if results.pose_landmarks is not None:\n",
    "                left_shoulder = results.pose_landmarks.landmark[mp_pose.PoseLandmark.LEFT_SHOULDER]\n",
    "                left_elbow = results.pose_landmarks.landmark[mp_pose.PoseLandmark.LEFT_ELBOW]\n",
    "                left_wrist = results.pose_landmarks.landmark[mp_pose.PoseLandmark.LEFT_WRIST]\n",
    "                right_shoulder = results.pose_landmarks.landmark[mp_pose.PoseLandmark.RIGHT_SHOULDER]\n",
    "                right_elbow = results.pose_landmarks.landmark[mp_pose.PoseLandmark.RIGHT_ELBOW]\n",
    "                right_wrist = results.pose_landmarks.landmark[mp_pose.PoseLandmark.RIGHT_WRIST]\n",
    "\n",
    "                left_arm_angle = calculate_angle(left_shoulder, left_elbow, left_wrist)\n",
    "                right_arm_angle = calculate_angle(right_shoulder, right_elbow, right_wrist)\n",
    "\n",
    "                # For push-up detection, we check the angle of both arms\n",
    "                if prev_angle is not None:\n",
    "                    delta = abs(left_arm_angle - right_arm_angle)\n",
    "                    if not is_pushing_up and delta < 10 and left_arm_angle > 160 and right_arm_angle > 160:\n",
    "                        is_pushing_up = True\n",
    "                    elif is_pushing_up and delta > 20 and left_arm_angle < 100 and right_arm_angle < 100:\n",
    "                        is_pushing_up = False\n",
    "\n",
    "                prev_angle = delta\n",
    "\n",
    "                if is_pushing_up:\n",
    "                    push_up_count += 1\n",
    "\n",
    "            cv2.rectangle(image, (card_x, card_y), (card_x + card_width, card_y + card_height), card_color, -1)\n",
    "\n",
    "            # Display the text inside the card\n",
    "            text_x, text_y = card_x + 10, card_y + 30\n",
    "            text_line1 = 'Push-ups'\n",
    "            text_line2 = f'Count: {push_up_count}'\n",
    "            line_spacing = 30\n",
    "            font_scale = 0.7\n",
    "            font_color = (255, 255, 255)\n",
    "\n",
    "            cv2.putText(image, text_line1, (text_x, text_y), cv2.FONT_HERSHEY_COMPLEX, font_scale, font_color, 2, cv2.LINE_AA)\n",
    "            cv2.putText(image, text_line2, (text_x, text_y + line_spacing), cv2.FONT_HERSHEY_COMPLEX, font_scale, font_color, 2, cv2.LINE_AA)\n",
    "\n",
    "            cv2.imshow('Push-up Counter', image)\n",
    "\n",
    "            if cv2.waitKey(1) == ord('q'):\n",
    "                break\n",
    "\n",
    "    cap.release()\n",
    "    cv2.destroyAllWindows()\n",
    "\n",
    "    return push_up_count"
   ]
  },
  {
   "cell_type": "code",
   "execution_count": 7,
   "metadata": {},
   "outputs": [],
   "source": [
    "count = count_push_ups()"
   ]
  },
  {
   "cell_type": "code",
   "execution_count": 3,
   "metadata": {},
   "outputs": [
    {
     "ename": "NameError",
     "evalue": "name 'count_pushups' is not defined",
     "output_type": "error",
     "traceback": [
      "\u001b[1;31m---------------------------------------------------------------------------\u001b[0m",
      "\u001b[1;31mNameError\u001b[0m                                 Traceback (most recent call last)",
      "\u001b[1;32mc:\\Users\\Legion\\OneDrive\\Desktop\\vi sem project\\Sixth_Sem_Project\\push_ups.ipynb Cell 6\u001b[0m in \u001b[0;36m<cell line: 10>\u001b[1;34m()\u001b[0m\n\u001b[0;32m      <a href='vscode-notebook-cell:/c%3A/Users/Legion/OneDrive/Desktop/vi%20sem%20project/Sixth_Sem_Project/push_ups.ipynb#W5sZmlsZQ%3D%3D?line=7'>8</a>\u001b[0m accuracy_values \u001b[39m=\u001b[39m []\n\u001b[0;32m     <a href='vscode-notebook-cell:/c%3A/Users/Legion/OneDrive/Desktop/vi%20sem%20project/Sixth_Sem_Project/push_ups.ipynb#W5sZmlsZQ%3D%3D?line=9'>10</a>\u001b[0m \u001b[39mfor\u001b[39;00m confidence \u001b[39min\u001b[39;00m confidence_values:\n\u001b[0;32m     <a href='vscode-notebook-cell:/c%3A/Users/Legion/OneDrive/Desktop/vi%20sem%20project/Sixth_Sem_Project/push_ups.ipynb#W5sZmlsZQ%3D%3D?line=10'>11</a>\u001b[0m     \u001b[39m# Call the count_pushups() function for each confidence value\u001b[39;00m\n\u001b[1;32m---> <a href='vscode-notebook-cell:/c%3A/Users/Legion/OneDrive/Desktop/vi%20sem%20project/Sixth_Sem_Project/push_ups.ipynb#W5sZmlsZQ%3D%3D?line=11'>12</a>\u001b[0m     pushup_count \u001b[39m=\u001b[39m count_pushups(video_file\u001b[39m=\u001b[39m\u001b[39mNone\u001b[39;00m, min_detection_confidence\u001b[39m=\u001b[39mconfidence)\n\u001b[0;32m     <a href='vscode-notebook-cell:/c%3A/Users/Legion/OneDrive/Desktop/vi%20sem%20project/Sixth_Sem_Project/push_ups.ipynb#W5sZmlsZQ%3D%3D?line=13'>14</a>\u001b[0m     \u001b[39m# Calculate accuracy (you need the ground truth push-up count)\u001b[39;00m\n\u001b[0;32m     <a href='vscode-notebook-cell:/c%3A/Users/Legion/OneDrive/Desktop/vi%20sem%20project/Sixth_Sem_Project/push_ups.ipynb#W5sZmlsZQ%3D%3D?line=14'>15</a>\u001b[0m     \u001b[39m# For this example, let's assume the ground truth is 50 push-ups\u001b[39;00m\n\u001b[0;32m     <a href='vscode-notebook-cell:/c%3A/Users/Legion/OneDrive/Desktop/vi%20sem%20project/Sixth_Sem_Project/push_ups.ipynb#W5sZmlsZQ%3D%3D?line=15'>16</a>\u001b[0m     ground_truth_pushups \u001b[39m=\u001b[39m \u001b[39m50\u001b[39m\n",
      "\u001b[1;31mNameError\u001b[0m: name 'count_pushups' is not defined"
     ]
    }
   ],
   "source": [
    "import matplotlib.pyplot as plt\n",
    "import numpy as np\n",
    "\n",
    "# Define a range of min detection confidence values\n",
    "confidence_values = np.arange(0, 8.1, 0.1)\n",
    "\n",
    "# Initialize lists to store accuracy values\n",
    "accuracy_values = []\n",
    "\n",
    "for confidence in confidence_values:\n",
    "    # Call the count_pushups() function for each confidence value\n",
    "    pushup_count = count_push_ups(video_file=None, min_detection_confidence=confidence)\n",
    "    \n",
    "    # Calculate accuracy (you need the ground truth push-up count)\n",
    "    # For this example, let's assume the ground truth is 50 push-ups\n",
    "    ground_truth_pushups = 50\n",
    "    accuracy = pushup_count / ground_truth_pushups\n",
    "    \n",
    "    accuracy_values.append(accuracy)\n",
    "\n",
    "# Plotting the graph\n",
    "plt.plot(confidence_values, accuracy_values, marker='o')\n",
    "plt.xlabel('Min Detection Confidence')\n",
    "plt.ylabel('Accuracy')\n",
    "plt.title('Accuracy vs Min Detection Confidence')\n",
    "plt.grid(True)\n",
    "plt.show()\n"
   ]
  }
 ],
 "metadata": {
  "kernelspec": {
   "display_name": "Python 3",
   "language": "python",
   "name": "python3"
  },
  "language_info": {
   "codemirror_mode": {
    "name": "ipython",
    "version": 3
   },
   "file_extension": ".py",
   "mimetype": "text/x-python",
   "name": "python",
   "nbconvert_exporter": "python",
   "pygments_lexer": "ipython3",
   "version": "3.10.4"
  },
  "orig_nbformat": 4
 },
 "nbformat": 4,
 "nbformat_minor": 2
}
